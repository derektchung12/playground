{
 "cells": [
  {
   "cell_type": "code",
   "execution_count": 20,
   "metadata": {},
   "outputs": [],
   "source": [
    "def getMergedIntervals(inputArray):\n",
    "    #\n",
    "    # Write your code here.\n",
    "    #\n",
    "    inputArray.sort(key=lambda x: x[0])\n",
    "    res = []\n",
    "    start, end = inputArray[0]\n",
    "    \n",
    "    for interval in inputArray:\n",
    "        print(interval)\n",
    "        print(\"start:\", start, \"end\", end)\n",
    "        if interval[0] < end or interval[1] == end:\n",
    "            end = max(end, interval[1])\n",
    "            print(\"end:\", end)\n",
    "        else:\n",
    "            res.append([start,end])\n",
    "            start, end = interval\n",
    "    res.append([start,end])\n",
    "    return res\n"
   ]
  },
  {
   "cell_type": "code",
   "execution_count": 22,
   "metadata": {},
   "outputs": [
    {
     "name": "stdout",
     "output_type": "stream",
     "text": [
      "[-10, -8]\n",
      "start: -10 end -8\n",
      "end: -8\n",
      "[-1, 1]\n",
      "start: -10 end -8\n",
      "[4, 5]\n",
      "start: -1 end 1\n",
      "[7, 29]\n",
      "start: 4 end 5\n",
      "[30, 30]\n",
      "start: 7 end 29\n"
     ]
    },
    {
     "data": {
      "text/plain": [
       "[[-10, -8], [-1, 1], [4, 5], [7, 29], [30, 30]]"
      ]
     },
     "execution_count": 22,
     "metadata": {},
     "output_type": "execute_result"
    }
   ],
   "source": [
    "test1 = [\n",
    "    [1,5],\n",
    "    [6,8],\n",
    "    [3,8],\n",
    "    [4,9]\n",
    "]\n",
    "\"\"\"\n",
    "4 5\n",
    "7 29\n",
    "-1 1\n",
    "30 30\n",
    "-10 -8\"\"\"\n",
    "test2 = [\n",
    "    [4,5],\n",
    "    [7,29],\n",
    "    [-1,1],\n",
    "    [30,30],\n",
    "    [-10,-8],\n",
    "]\n",
    "\n",
    "getMergedIntervals(test2)"
   ]
  },
  {
   "cell_type": "code",
   "execution_count": null,
   "metadata": {},
   "outputs": [],
   "source": []
  }
 ],
 "metadata": {
  "kernelspec": {
   "display_name": "Python 3",
   "language": "python",
   "name": "python3"
  },
  "language_info": {
   "codemirror_mode": {
    "name": "ipython",
    "version": 3
   },
   "file_extension": ".py",
   "mimetype": "text/x-python",
   "name": "python",
   "nbconvert_exporter": "python",
   "pygments_lexer": "ipython3",
   "version": "3.7.6"
  }
 },
 "nbformat": 4,
 "nbformat_minor": 4
}
