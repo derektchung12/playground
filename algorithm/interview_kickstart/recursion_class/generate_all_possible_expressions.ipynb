{
 "cells": [
  {
   "cell_type": "code",
   "execution_count": 3,
   "metadata": {},
   "outputs": [],
   "source": [
    "def get_value(expression):\n",
    "    sum_list = expression.split(\"+\")\n",
    "    total_sum = 0\n",
    "    for val in sum_list:\n",
    "        if \"*\" in val:\n",
    "            multiplication_list = val.split(\"*\")\n",
    "            product = 1\n",
    "            for num in multiplication_list:\n",
    "                product *= int(num)\n",
    "            total_sum += product\n",
    "        else:\n",
    "            total_sum += int(val)\n",
    "    return total_sum"
   ]
  },
  {
   "cell_type": "code",
   "execution_count": 5,
   "metadata": {},
   "outputs": [
    {
     "data": {
      "text/plain": [
       "138"
      ]
     },
     "execution_count": 5,
     "metadata": {},
     "output_type": "execute_result"
    }
   ],
   "source": [
    "equals_target(\"5+2*45+43\")"
   ]
  },
  {
   "cell_type": "code",
   "execution_count": 17,
   "metadata": {},
   "outputs": [],
   "source": [
    "# Complete the function below.\n",
    "\n",
    "def generate_all_expressions(s, target):\n",
    "    def get_value(expression):\n",
    "        sum_list = \"\".join(expression).split(\"+\")\n",
    "        total_sum = 0\n",
    "        for val in sum_list:\n",
    "            if \"*\" in val:\n",
    "                multiplication_list = val.split(\"*\")\n",
    "                product = 1\n",
    "                for num in multiplication_list:\n",
    "                    product *= int(num)\n",
    "                total_sum += product\n",
    "            else:\n",
    "                total_sum += int(val)\n",
    "        print(\"expression:\", expression)\n",
    "        print(\"total_sum:\", total_sum)\n",
    "        return total_sum\n",
    "            \n",
    "    def helper(s, idx, so_far, collector):\n",
    "        if idx == len(s):\n",
    "            if get_value(so_far) == target:\n",
    "                collector.append(\"\".join(so_far))\n",
    "            return\n",
    "        else:\n",
    "            next_num = str(s[idx])\n",
    "            #join\n",
    "            so_far.append(next_num)\n",
    "            helper(s, idx + 1, so_far, collector)\n",
    "            so_far.pop()\n",
    "            \n",
    "            #multiply\n",
    "            so_far.append(\"*\")\n",
    "            so_far.append(next_num)\n",
    "            helper(s, idx + 1, so_far, collector)\n",
    "            so_far.pop()\n",
    "            so_far.pop()\n",
    "            \n",
    "            #add\n",
    "            so_far.append(\"+\")\n",
    "            so_far.append(next_num)\n",
    "            helper(s, idx + 1, so_far, collector)\n",
    "            so_far.pop()\n",
    "            so_far.pop()\n",
    "    coll = []\n",
    "    helper(s, 1, [s[0]], coll)\n",
    "    \n",
    "    return coll"
   ]
  },
  {
   "cell_type": "code",
   "execution_count": 18,
   "metadata": {},
   "outputs": [
    {
     "name": "stdout",
     "output_type": "stream",
     "text": [
      "expression: ['2', '2', '2']\n",
      "total_sum: 222\n",
      "expression: ['2', '2', '*', '2']\n",
      "total_sum: 44\n",
      "expression: ['2', '2', '+', '2']\n",
      "total_sum: 24\n",
      "expression: ['2', '*', '2', '2']\n",
      "total_sum: 44\n",
      "expression: ['2', '*', '2', '*', '2']\n",
      "total_sum: 8\n",
      "expression: ['2', '*', '2', '+', '2']\n",
      "total_sum: 6\n",
      "expression: ['2', '+', '2', '2']\n",
      "total_sum: 24\n",
      "expression: ['2', '+', '2', '*', '2']\n",
      "total_sum: 6\n",
      "expression: ['2', '+', '2', '+', '2']\n",
      "total_sum: 6\n"
     ]
    },
    {
     "data": {
      "text/plain": [
       "['22+2', '2+22']"
      ]
     },
     "execution_count": 18,
     "metadata": {},
     "output_type": "execute_result"
    }
   ],
   "source": [
    "generate_all_expressions(\"222\",24)"
   ]
  },
  {
   "cell_type": "code",
   "execution_count": null,
   "metadata": {},
   "outputs": [],
   "source": []
  }
 ],
 "metadata": {
  "kernelspec": {
   "display_name": "Python 3",
   "language": "python",
   "name": "python3"
  },
  "language_info": {
   "codemirror_mode": {
    "name": "ipython",
    "version": 3
   },
   "file_extension": ".py",
   "mimetype": "text/x-python",
   "name": "python",
   "nbconvert_exporter": "python",
   "pygments_lexer": "ipython3",
   "version": "3.7.6"
  }
 },
 "nbformat": 4,
 "nbformat_minor": 4
}
