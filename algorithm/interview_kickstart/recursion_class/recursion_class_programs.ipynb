{
 "cells": [
  {
   "cell_type": "code",
   "execution_count": 1,
   "metadata": {},
   "outputs": [],
   "source": [
    "#Backtrack problem\n",
    "# code together with class\n",
    "# Print all subsets with sum == k\n",
    "# assume all positive\n",
    "\n",
    "def driver(inpt, target):\n",
    "    helper(inpt, 0, [])\n",
    "\n",
    "def helper(inpt, idx, path, k):\n",
    "    if idx == len(inpt) and sum(path) == k:\n",
    "        print(path)\n",
    "        return \n",
    "    elif sum(path) > k:\n",
    "        return\n",
    "    else:\n",
    "        helper(inpt, idx + 1, path) #exclude\n",
    "    \n",
    "    #include\n",
    "    path.append(input[idx])\n",
    "    helper(inpt, idx + 1, path)\n",
    "    path.pop()"
   ]
  },
  {
   "cell_type": "code",
   "execution_count": 2,
   "metadata": {},
   "outputs": [],
   "source": [
    "#Backtrack problem\n",
    "# code together with class\n",
    "# Print all subsets with sum == k\n",
    "# assume with negatives & unique\n",
    "\n",
    "def driver(inpt, target):\n",
    "    helper(inpt, 0, [])\n",
    "\n",
    "def helper(inpt, idx, path, k):\n",
    "    if idx == len(inpt) and sum(path) == k:\n",
    "        print(path)\n",
    "        return \n",
    "    elif sum(path) > k:\n",
    "        return\n",
    "    else:\n",
    "        helper(inpt, idx + 1, path) #exclude\n",
    "    \n",
    "    #include\n",
    "    path.append(input[idx])\n",
    "    helper(inpt, idx + 1, path)\n",
    "    path.pop()"
   ]
  },
  {
   "cell_type": "code",
   "execution_count": 3,
   "metadata": {},
   "outputs": [],
   "source": [
    "#Backtrack Problem -- Dice Problem\n",
    "#Print all combinations of dice values that add up to a given sum\n",
    "#each dice has 6 values 1-6\n",
    "#eg  input: numDice = 2, sum = 3\n",
    "#    output: [1,2], [2,1]\n",
    "\n",
    "def dice_problem(numDice, targetSum):\n",
    "    helper(numDice, targetSum, 0, [])\n",
    "\n",
    "def helper(dice_remaining, targetSum, total_sum, dices):\n",
    "    if dice_remaining == 0:\n",
    "        if total_sum == targetSum:\n",
    "            print(dices)\n",
    "        return\n",
    "    elif total_sum >= targetSum or numDice*6 + total_sum < targetSum: #max value we can get is numDice * 6 + sumSoFar\n",
    "        return\n",
    "    else:\n",
    "        for dice_val in range(1,7):\n",
    "            helper(dice_remaining - 1, targetSum, total_sum + dice_val, dices.append(dice_val))\n",
    "            dices.pop()\n",
    "    \n"
   ]
  },
  {
   "cell_type": "code",
   "execution_count": 4,
   "metadata": {},
   "outputs": [
    {
     "ename": "SyntaxError",
     "evalue": "Missing parentheses in call to 'print'. Did you mean print(soFar)? (<ipython-input-4-d657ee957f66>, line 11)",
     "output_type": "error",
     "traceback": [
      "\u001b[0;36m  File \u001b[0;32m\"<ipython-input-4-d657ee957f66>\"\u001b[0;36m, line \u001b[0;32m11\u001b[0m\n\u001b[0;31m    print soFar\u001b[0m\n\u001b[0m              ^\u001b[0m\n\u001b[0;31mSyntaxError\u001b[0m\u001b[0;31m:\u001b[0m Missing parentheses in call to 'print'. Did you mean print(soFar)?\n"
     ]
    }
   ],
   "source": [
    "#Generate Parentheses\n",
    "#Given n pairs of parentheses...generate all combinations of well-formed parentheses\n",
    "#example\n",
    "\n",
    "\n",
    "def driver(n):\n",
    "    helper(2*n, \"\")\n",
    "\n",
    "def helper(remaining, soFar):\n",
    "    if remaining == 0 and isWellFormed(soFar):\n",
    "        print soFar\n",
    "    else:\n",
    "        helper(remaining - 1, soFar + \"(\")\n",
    "        helper(remaining - 1, soFar = \")\")\n",
    "    \n",
    "boolean isWellFormed(inpt):\n",
    "    "
   ]
  },
  {
   "cell_type": "code",
   "execution_count": null,
   "metadata": {},
   "outputs": [],
   "source": [
    "#Venerable N-Queens problem\n",
    "#put queens on a board such that they can't attack each other\n",
    "\n",
    "#Given an NxN bord, place N queens such that they can't attack each other. \n",
    "#A queen can attack another queen if they are in the same row or col\n",
    "\n",
    "#92 valid arrangements\n",
    "\n",
    "def driver(boardSize):\n",
    "    coll = []\n",
    "    board = []\n",
    "    helper()\n",
    "    return coll\n",
    "\n",
    "def helper(boardSize, row, board):\n",
    "    if row == boardSize:\n",
    "        coll.append(list(board))\n",
    "        return\n",
    "    else: \n",
    "        for column in range(boardSize):\n",
    "            if isSafeToPlaceQueenAt(board, row, column):\n",
    "                board.append(column)\n",
    "                helper(boardSize, row + 1, board, coll)\n",
    "                board.pop(column)\n",
    "            else:\n",
    "                continue\n",
    "    \n",
    "            \n",
    "    \n",
    "    \n"
   ]
  }
 ],
 "metadata": {
  "kernelspec": {
   "display_name": "Python 3",
   "language": "python",
   "name": "python3"
  },
  "language_info": {
   "codemirror_mode": {
    "name": "ipython",
    "version": 3
   },
   "file_extension": ".py",
   "mimetype": "text/x-python",
   "name": "python",
   "nbconvert_exporter": "python",
   "pygments_lexer": "ipython3",
   "version": "3.7.6"
  }
 },
 "nbformat": 4,
 "nbformat_minor": 4
}
