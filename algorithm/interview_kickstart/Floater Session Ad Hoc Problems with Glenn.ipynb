{
 "cells": [
  {
   "cell_type": "code",
   "execution_count": 14,
   "metadata": {},
   "outputs": [],
   "source": [
    "def find_left(arr, index):\n",
    "    target = arr[index]\n",
    "    begin_index = 0\n",
    "    end_index = index\n",
    "    \n",
    "    while begin_index <= end_index:\n",
    "        middle_index = int((begin_index + end_index)/2)\n",
    "        print(\"middle_index\", middle_index)\n",
    "        if arr[middle_index] == target:\n",
    "            if middle_index == 0:\n",
    "                return middle_index\n",
    "            if arr[middle_index - 1] != target:\n",
    "                return middle_index\n",
    "            else:\n",
    "                end_index = middle_index - 1\n",
    "        #not the target value\n",
    "        elif arr[middle_index] > target:\n",
    "            #search left\n",
    "            end_index = middle_index - 1\n",
    "        elif arr[middle_index] < target:\n",
    "            begin_index = middle_index + 1\n",
    "    return index"
   ]
  },
  {
   "cell_type": "code",
   "execution_count": 15,
   "metadata": {},
   "outputs": [
    {
     "name": "stdout",
     "output_type": "stream",
     "text": [
      "middle_index 5\n",
      "middle_index 8\n"
     ]
    },
    {
     "data": {
      "text/plain": [
       "8"
      ]
     },
     "execution_count": 15,
     "metadata": {},
     "output_type": "execute_result"
    }
   ],
   "source": [
    "find_left([1,1,1,1,1,2,2,2,3,3,3,4,4,4,5], 10)"
   ]
  },
  {
   "cell_type": "code",
   "execution_count": null,
   "metadata": {},
   "outputs": [],
   "source": []
  }
 ],
 "metadata": {
  "kernelspec": {
   "display_name": "Python 3",
   "language": "python",
   "name": "python3"
  },
  "language_info": {
   "codemirror_mode": {
    "name": "ipython",
    "version": 3
   },
   "file_extension": ".py",
   "mimetype": "text/x-python",
   "name": "python",
   "nbconvert_exporter": "python",
   "pygments_lexer": "ipython3",
   "version": "3.7.6"
  }
 },
 "nbformat": 4,
 "nbformat_minor": 4
}
