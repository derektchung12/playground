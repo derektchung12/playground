{
 "cells": [
  {
   "cell_type": "code",
   "execution_count": 1,
   "metadata": {},
   "outputs": [],
   "source": [
    "#goal of this exercise is to write quick sort within 30 minutes"
   ]
  },
  {
   "cell_type": "code",
   "execution_count": 2,
   "metadata": {},
   "outputs": [
    {
     "data": {
      "text/plain": [
       "'\\n\\n[4,1,7,3,2,5,6]\\n\\n4 is pivot\\n[]\\n\\n'"
      ]
     },
     "execution_count": 2,
     "metadata": {},
     "output_type": "execute_result"
    }
   ],
   "source": [
    "\"\"\"\n",
    "\n",
    "[4,1,7,3,2,5,6]\n",
    "\n",
    "4 is pivot\n",
    "[]\n",
    "\n",
    "\"\"\"\n"
   ]
  },
  {
   "cell_type": "code",
   "execution_count": 21,
   "metadata": {},
   "outputs": [],
   "source": [
    "#start time 2/12 5:18 pm\n",
    "import random\n",
    "def swap(arr, index1, index2):\n",
    "    temp  = arr[index1]\n",
    "    arr[index1] = arr[index2]\n",
    "    arr[index2] = temp\n",
    "def quick_sort1(arr, start, end):\n",
    "    if end - start <= 1:\n",
    "        return \n",
    "    #swap pivot and start\n",
    "    swap(arr, start, random.randrange(start, end))\n",
    "    \n",
    "    pivot_index = start\n",
    "    lt_index = start\n",
    "    gt_index = start + 1\n",
    "    \n",
    "    pivot = arr[pivot_index]\n",
    "    \n",
    "    for gt_index in range(start+1,end):\n",
    "        if arr[gt_index] < pivot:\n",
    "            lt_index += 1\n",
    "            swap(arr, gt_index, lt_index)\n",
    "    \n",
    "    swap(arr, lt_index, pivot_index)\n",
    "    \n",
    "    pivot_index = lt_index\n",
    "    \n",
    "    quick_sort1(arr, start, pivot_index)\n",
    "    quick_sort1(arr, pivot_index + 1, end)\n",
    "    "
   ]
  },
  {
   "cell_type": "code",
   "execution_count": 23,
   "metadata": {},
   "outputs": [
    {
     "name": "stdout",
     "output_type": "stream",
     "text": [
      "[1, 3, 3, 4, 5, 5, 8]\n"
     ]
    }
   ],
   "source": [
    "a = [5,3,5,8,3,1,4]\n",
    "quick_sort1(a, 0, len(a))\n",
    "print(a)"
   ]
  },
  {
   "cell_type": "code",
   "execution_count": 31,
   "metadata": {},
   "outputs": [],
   "source": [
    "def swap(arr, a, b):\n",
    "    temp = arr[a]\n",
    "    arr[a] = arr[b]\n",
    "    arr[b] = temp\n",
    "\n",
    "def quick_sort2(arr, start, end):\n",
    "    if end - start <= 1:\n",
    "        return\n",
    "    import random\n",
    "    \n",
    "    swap(arr, random.randrange(start, end), start)\n",
    "    \n",
    "    pivot_index = start\n",
    "    lt_index = start\n",
    "    \n",
    "    pivot = arr[pivot_index]\n",
    "    \n",
    "    for gt_index in range(start + 1, end):\n",
    "        if arr[gt_index] < pivot:\n",
    "            lt_index += 1\n",
    "            swap(arr, lt_index, gt_index)\n",
    "    \n",
    "    swap(arr, pivot_index, lt_index)\n",
    "    \n",
    "    pivot_index = lt_index\n",
    "    \n",
    "    quick_sort2(arr, start, pivot_index)\n",
    "    quick_sort2(arr, pivot_index + 1, end)"
   ]
  },
  {
   "cell_type": "code",
   "execution_count": 32,
   "metadata": {},
   "outputs": [
    {
     "name": "stdout",
     "output_type": "stream",
     "text": [
      "[1, 3, 3, 4, 5, 5, 8]\n"
     ]
    }
   ],
   "source": [
    "a = [5,3,5,8,3,1,4]\n",
    "quick_sort2(a, 0, len(a))\n",
    "print(a)"
   ]
  },
  {
   "cell_type": "code",
   "execution_count": 33,
   "metadata": {},
   "outputs": [],
   "source": [
    "#start time 2/12 7:54 pm\n",
    "\n",
    "def swap(arr, a, b):\n",
    "    temp = arr[a]\n",
    "    arr[a] = arr[b]\n",
    "    arr[b] = temp\n",
    "    \n",
    "def quick_sort3(arr, start, end):\n",
    "    if end - start <= 1:\n",
    "        return \n",
    "    import random \n",
    "    \n",
    "    swap(arr, random.randrange(start,end), start)\n",
    "    \n",
    "    pivot_index = start\n",
    "    lt_index = start\n",
    "    pivot = arr[start]\n",
    "    \n",
    "    for gt_index in range(start + 1, end):\n",
    "        if arr[gt_index] < pivot:\n",
    "            lt_index += 1\n",
    "            swap(arr, gt_index, lt_index)\n",
    "    \n",
    "    swap(arr, lt_index, pivot_index)\n",
    "    \n",
    "    pivot_index = lt_index\n",
    "    \n",
    "    quick_sort3(arr, start, pivot_index)\n",
    "    quick_sort3(arr, pivot_index + 1, end)\n",
    "    "
   ]
  },
  {
   "cell_type": "code",
   "execution_count": 34,
   "metadata": {},
   "outputs": [
    {
     "name": "stdout",
     "output_type": "stream",
     "text": [
      "[1, 3, 3, 4, 5, 5, 8]\n"
     ]
    }
   ],
   "source": [
    "a = [5,3,5,8,3,1,4]\n",
    "quick_sort3(a, 0, len(a))\n",
    "print(a)"
   ]
  },
  {
   "cell_type": "code",
   "execution_count": null,
   "metadata": {},
   "outputs": [],
   "source": []
  }
 ],
 "metadata": {
  "kernelspec": {
   "display_name": "Python 3",
   "language": "python",
   "name": "python3"
  },
  "language_info": {
   "codemirror_mode": {
    "name": "ipython",
    "version": 3
   },
   "file_extension": ".py",
   "mimetype": "text/x-python",
   "name": "python",
   "nbconvert_exporter": "python",
   "pygments_lexer": "ipython3",
   "version": "3.7.6"
  }
 },
 "nbformat": 4,
 "nbformat_minor": 4
}
