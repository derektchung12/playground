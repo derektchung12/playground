{
 "cells": [
  {
   "cell_type": "code",
   "execution_count": 15,
   "metadata": {},
   "outputs": [],
   "source": [
    "def solve(arr):\n",
    "    #start time 2/13 5:31 pm\n",
    "    def swap(index1, index2):\n",
    "        temp = arr[index1]\n",
    "        arr[index1] = arr[index2]\n",
    "        arr[index2] = temp\n",
    "    \n",
    "    even = 0\n",
    "    odd = len(arr) - 1\n",
    "    \n",
    "    while even < odd:\n",
    "        #find odd\n",
    "        while even < odd and arr[even] % 2 == 0:\n",
    "            even += 1\n",
    "        while even < odd and arr[odd] % 2 == 1:\n",
    "            odd -= 1\n",
    "        \n",
    "        if even < odd:\n",
    "            swap(even, odd)\n",
    "            even += 1\n",
    "            odd -= 1\n",
    "    return arr"
   ]
  },
  {
   "cell_type": "code",
   "execution_count": 12,
   "metadata": {},
   "outputs": [
    {
     "name": "stdout",
     "output_type": "stream",
     "text": [
      "[8, 4, 9, 5, 2, 9, 5, 7, 10]\n",
      "[8, 4, 10, 2, 5, 9, 5, 7, 9]\n"
     ]
    }
   ],
   "source": [
    "s = \"\"\"8\n",
    "4\n",
    "9\n",
    "5\n",
    "2\n",
    "9\n",
    "5\n",
    "7\n",
    "10\"\"\"\n",
    "a = [int(x) for x in s.split()]\n",
    "print(a)\n",
    "solve(a)\n",
    "print(a)"
   ]
  },
  {
   "cell_type": "code",
   "execution_count": 17,
   "metadata": {},
   "outputs": [
    {
     "name": "stdout",
     "output_type": "stream",
     "text": [
      "[2, 1, 5]\n"
     ]
    }
   ],
   "source": [
    "b = [2,1,5]\n",
    "print(solve(b))"
   ]
  },
  {
   "cell_type": "code",
   "execution_count": null,
   "metadata": {},
   "outputs": [],
   "source": []
  }
 ],
 "metadata": {
  "kernelspec": {
   "display_name": "Python 3",
   "language": "python",
   "name": "python3"
  },
  "language_info": {
   "codemirror_mode": {
    "name": "ipython",
    "version": 3
   },
   "file_extension": ".py",
   "mimetype": "text/x-python",
   "name": "python",
   "nbconvert_exporter": "python",
   "pygments_lexer": "ipython3",
   "version": "3.7.6"
  }
 },
 "nbformat": 4,
 "nbformat_minor": 4
}
