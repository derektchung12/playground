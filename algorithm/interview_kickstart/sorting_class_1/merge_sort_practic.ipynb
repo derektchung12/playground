{
 "cells": [
  {
   "cell_type": "code",
   "execution_count": 1,
   "metadata": {},
   "outputs": [],
   "source": [
    "#the goal of this exercise is to write merge_sort under 15 minutes"
   ]
  },
  {
   "cell_type": "code",
   "execution_count": 3,
   "metadata": {},
   "outputs": [
    {
     "data": {
      "text/plain": [
       "'\\na = [5,6,7,4,8,3,1,2]\\nmerge sort breakdown\\n\\nlen(a) = 8\\nmerge_sort([5,6,7,4]), merge_sort([8,3,1,2])\\nmerge_sort([5,6]), merge_sort([7,4]), merge_sort([8,3]),merge_sort([1,2])\\nmerge_sort([5]), merge_sort([6]), merge_sort([7]), merge_sort([4]), merge_sort([8]), merge_sort([3]), merge_sort([1]), merge_sort([2])\\n[5,6], [4,7], [3,8], [1,2]\\n[4,5,6,7], [1,2,3,8]\\n[1,2,3,4,5,6,7,8]\\n'"
      ]
     },
     "execution_count": 3,
     "metadata": {},
     "output_type": "execute_result"
    }
   ],
   "source": [
    "\"\"\"\n",
    "a = [5,6,7,4,8,3,1,2]\n",
    "merge sort breakdown\n",
    "\n",
    "len(a) = 8\n",
    "merge_sort([5,6,7,4]), merge_sort([8,3,1,2])\n",
    "merge_sort([5,6]), merge_sort([7,4]), merge_sort([8,3]),merge_sort([1,2])\n",
    "merge_sort([5]), merge_sort([6]), merge_sort([7]), merge_sort([4]), merge_sort([8]), merge_sort([3]), merge_sort([1]), merge_sort([2])\n",
    "[5,6], [4,7], [3,8], [1,2]\n",
    "[4,5,6,7], [1,2,3,8]\n",
    "[1,2,3,4,5,6,7,8]\n",
    "\"\"\""
   ]
  },
  {
   "cell_type": "code",
   "execution_count": 14,
   "metadata": {},
   "outputs": [],
   "source": [
    "def merge_sort_helper(arr):\n",
    "    if len(arr) <= 1:\n",
    "        return arr\n",
    "    mid = int(len(arr)/2)\n",
    "    arr1 = merge_sort_helper(arr[:mid])\n",
    "    arr2 = merge_sort_helper(arr[mid:])\n",
    "    res = []\n",
    "\n",
    "    index1 = 0\n",
    "    index2 = 0\n",
    "\n",
    "    while index1 < len(arr1) or index2 < len(arr2):\n",
    "        if index2 == len(arr2):\n",
    "            res.append(arr1[index1])\n",
    "            index1 += 1\n",
    "        elif index1 == len(arr1):\n",
    "            res.append(arr2[index2])\n",
    "            index2 += 1\n",
    "        elif arr2[index2] < arr1[index1]:\n",
    "            res.append(arr2[index2])\n",
    "            index2 += 1\n",
    "        else:\n",
    "            res.append(arr1[index1])\n",
    "            index1 += 1\n",
    "\n",
    "    return res\n",
    "                \n",
    "                \n",
    "        \n",
    "        "
   ]
  },
  {
   "cell_type": "code",
   "execution_count": 15,
   "metadata": {},
   "outputs": [],
   "source": [
    "a = [5,6,7,4,8,3,1,2]\n",
    "res = merge_sort_helper(a)"
   ]
  },
  {
   "cell_type": "code",
   "execution_count": 17,
   "metadata": {},
   "outputs": [
    {
     "name": "stdout",
     "output_type": "stream",
     "text": [
      "[1, 2, 3, 4, 5, 6, 7, 8]\n"
     ]
    }
   ],
   "source": [
    "print(res)"
   ]
  },
  {
   "cell_type": "code",
   "execution_count": 30,
   "metadata": {},
   "outputs": [],
   "source": [
    "def merge(arr,start,mid,end):\n",
    "    \n",
    "    res = []\n",
    "    index1 = start\n",
    "    index2 = mid\n",
    "\n",
    "    while index1 < mid or index2 < end:\n",
    "        if index2 == end:\n",
    "            res.append(arr[index1])\n",
    "            index1 += 1\n",
    "        elif index1 == mid:\n",
    "            res.append(arr[index2])\n",
    "            index2 += 1\n",
    "        elif arr[index2] < arr[index1]:\n",
    "            res.append(arr[index2])\n",
    "            index2 += 1\n",
    "        else:\n",
    "            res.append(arr[index1])\n",
    "            index1 += 1\n",
    "        \n",
    "    index = start\n",
    "    \n",
    "    for num in res:\n",
    "        arr[index] = num\n",
    "        index += 1\n",
    "    \n",
    "def merge_sort2(arr, start, end):\n",
    "    if end - start <= 1:\n",
    "        return\n",
    "    mid = int((start + end)/2)\n",
    "\n",
    "    merge_sort2(arr, start, mid)\n",
    "    merge_sort2(arr, mid, end)\n",
    "    merge(arr,start,mid,end)\n",
    "    \n",
    "    "
   ]
  },
  {
   "cell_type": "code",
   "execution_count": 35,
   "metadata": {},
   "outputs": [
    {
     "name": "stdout",
     "output_type": "stream",
     "text": [
      "[1, 2, 3, 4, 5, 6, 7, 8]\n"
     ]
    }
   ],
   "source": [
    "a = [5,6,7,4,8,3,1,2]\n",
    "merge_sort2(a, 0, len(a))\n",
    "print(a)"
   ]
  },
  {
   "cell_type": "code",
   "execution_count": 46,
   "metadata": {},
   "outputs": [],
   "source": [
    "#start time 2:48 AM 2/12/20\n",
    "#end time 2:58 AM 2/12/20\n",
    "def merge3(arr, start, mid, end):\n",
    "    index1 = start\n",
    "    index2 = mid\n",
    "    aux = []\n",
    "    \n",
    "    while index1 < mid or index2 < end:\n",
    "        if index1 == mid:\n",
    "            aux.append(arr[index2])\n",
    "            index2 += 1\n",
    "        elif index2 == end:\n",
    "            aux.append(arr[index1])\n",
    "            index1 += 1\n",
    "        elif arr[index1] < arr[index2]:\n",
    "            aux.append(arr[index1])\n",
    "            index1 += 1\n",
    "        else:\n",
    "            aux.append(arr[index2])\n",
    "            index2 += 1\n",
    "    \n",
    "    index = start\n",
    "    for num in aux:\n",
    "        arr[index] = num\n",
    "        index += 1\n",
    "    \n",
    "def merge_sort3(arr, start, end):\n",
    "    if end - start <= 1:\n",
    "        return\n",
    "    \n",
    "    mid = int((start + end)/2)\n",
    "    \n",
    "    merge_sort3(arr, start, mid)\n",
    "    merge_sort3(arr, mid, end)\n",
    "    merge3(arr, start, mid, end)"
   ]
  },
  {
   "cell_type": "code",
   "execution_count": 47,
   "metadata": {},
   "outputs": [
    {
     "name": "stdout",
     "output_type": "stream",
     "text": [
      "[1, 2, 2, 3, 4, 4, 5, 7, 87]\n"
     ]
    }
   ],
   "source": [
    "a = [5,3,7,4,2,87,4,2,1]\n",
    "merge_sort3(a, 0, len(a))\n",
    "print(a)"
   ]
  },
  {
   "cell_type": "code",
   "execution_count": 50,
   "metadata": {},
   "outputs": [],
   "source": [
    "#start time 2/12 4:03 PM\n",
    "#end time 2/12 4:11\n",
    "\n",
    "def merge4(arr, start, mid, end):\n",
    "    index1 = start\n",
    "    index2 = mid\n",
    "    res = []\n",
    "    \n",
    "    while index1 < mid or index2 < end:\n",
    "        if index1 == mid:\n",
    "            res.append(arr[index2])\n",
    "            index2 += 1\n",
    "        elif index2 == end:\n",
    "            res.append(arr[index1])\n",
    "            index1 += 1\n",
    "        elif arr[index1] < arr[index2]:\n",
    "            res.append(arr[index1])\n",
    "            index1 += 1\n",
    "        else:\n",
    "            res.append(arr[index2])\n",
    "            index2 += 1\n",
    "    \n",
    "    index = start\n",
    "    for num in res:\n",
    "        arr[index] = num\n",
    "        index += 1\n",
    "        \n",
    "        \n",
    "    \n",
    "def merge_sort4(arr, start, end):\n",
    "    if end - start <= 1:\n",
    "        return\n",
    "    mid = int((start + end)/2)\n",
    "    \n",
    "    merge_sort4(arr, start, mid)\n",
    "    merge_sort4(arr, mid, end)\n",
    "    merge4(arr,start, mid, end)\n",
    "    \n",
    "    "
   ]
  },
  {
   "cell_type": "code",
   "execution_count": 51,
   "metadata": {},
   "outputs": [
    {
     "name": "stdout",
     "output_type": "stream",
     "text": [
      "[1, 2, 2, 3, 4, 4, 5, 7, 87]\n"
     ]
    }
   ],
   "source": [
    "a = [5,3,7,4,2,87,4,2,1]\n",
    "merge_sort4(a, 0, len(a))\n",
    "print(a)"
   ]
  },
  {
   "cell_type": "code",
   "execution_count": 9,
   "metadata": {},
   "outputs": [],
   "source": [
    "#start time: 3:34 pm\n",
    "#end time:\n",
    "def merge_sort5(a, start, end):\n",
    "    if end - start <= 1:\n",
    "        return\n",
    "    else:\n",
    "        mid = int((start + end)/2)\n",
    "        \n",
    "        merge_sort5(a, start, mid)\n",
    "        merge_sort5(a, mid, end)\n",
    "        \n",
    "        tmp = []\n",
    "        index1 = start\n",
    "        index2 = mid\n",
    "        while index1 < mid or index2 < end:\n",
    "            if index1 == mid:\n",
    "                tmp.append(a[index2])\n",
    "                index2 += 1\n",
    "            elif index2 == end:\n",
    "                tmp.append(a[index1])\n",
    "                index1 += 1\n",
    "            elif a[index1] <= a[index2]:\n",
    "                tmp.append(a[index1])\n",
    "                index1 += 1\n",
    "            else:\n",
    "                tmp.append(a[index2])\n",
    "                index2 += 1\n",
    "        index = start\n",
    "        for val in tmp:\n",
    "            a[start] = val\n",
    "            start += 1"
   ]
  },
  {
   "cell_type": "code",
   "execution_count": 10,
   "metadata": {},
   "outputs": [
    {
     "name": "stdout",
     "output_type": "stream",
     "text": [
      "[1, 2, 2, 3, 4, 4, 5, 7, 87]\n"
     ]
    }
   ],
   "source": [
    "a = [5,3,7,4,2,87,4,2,1]\n",
    "merge_sort5(a, 0, len(a))\n",
    "print(a)"
   ]
  },
  {
   "cell_type": "code",
   "execution_count": null,
   "metadata": {},
   "outputs": [],
   "source": []
  }
 ],
 "metadata": {
  "kernelspec": {
   "display_name": "Python 3",
   "language": "python",
   "name": "python3"
  },
  "language_info": {
   "codemirror_mode": {
    "name": "ipython",
    "version": 3
   },
   "file_extension": ".py",
   "mimetype": "text/x-python",
   "name": "python",
   "nbconvert_exporter": "python",
   "pygments_lexer": "ipython3",
   "version": "3.7.6"
  }
 },
 "nbformat": 4,
 "nbformat_minor": 4
}
