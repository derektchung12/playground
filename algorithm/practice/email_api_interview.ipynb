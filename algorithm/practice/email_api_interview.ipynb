{
 "cells": [
  {
   "cell_type": "code",
   "execution_count": 8,
   "metadata": {},
   "outputs": [],
   "source": [
    "def get_emails(emails):\n",
    "    email_set = set()\n",
    "    for email in emails:\n",
    "        email_list = []\n",
    "        for letter in email:\n",
    "            if letter == \".\":\n",
    "                continue\n",
    "            elif letter == \"+\" or letter == \"@\":\n",
    "                break\n",
    "            else:\n",
    "                email_list.append(letter)\n",
    "        email_set.add(\"\".join(email_list))\n",
    "    return len(email_set)"
   ]
  },
  {
   "cell_type": "code",
   "execution_count": 9,
   "metadata": {},
   "outputs": [
    {
     "name": "stdout",
     "output_type": "stream",
     "text": [
      "{'test4', 'test', 'test2'}\n"
     ]
    },
    {
     "data": {
      "text/plain": [
       "3"
      ]
     },
     "execution_count": 9,
     "metadata": {},
     "output_type": "execute_result"
    }
   ],
   "source": [
    "emails = [\"test@yahoo.com\", \"test.2@yahoo.com\", \"test+3@yahoo.com\", \"test@gmail.com\", \"test2@gmail.com\",\n",
    "         \"test4@yahoo.com\"]\n",
    "get_emails(emails)"
   ]
  },
  {
   "cell_type": "code",
   "execution_count": null,
   "metadata": {},
   "outputs": [],
   "source": []
  }
 ],
 "metadata": {
  "kernelspec": {
   "display_name": "Python 3",
   "language": "python",
   "name": "python3"
  },
  "language_info": {
   "codemirror_mode": {
    "name": "ipython",
    "version": 3
   },
   "file_extension": ".py",
   "mimetype": "text/x-python",
   "name": "python",
   "nbconvert_exporter": "python",
   "pygments_lexer": "ipython3",
   "version": "3.7.6"
  }
 },
 "nbformat": 4,
 "nbformat_minor": 4
}
